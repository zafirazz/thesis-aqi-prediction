{
 "cells": [
  {
   "cell_type": "code",
   "id": "initial_id",
   "metadata": {
    "collapsed": true
   },
   "source": [
    "import pandas as pd\n",
    "from sklearn.linear_model import LinearRegression\n",
    "from sklearn.preprocessing import MinMaxScaler\n",
    "from sklearn.model_selection import train_test_split\n",
    "from matplotlib import pyplot as plt\n",
    "from sklearn.metrics import r2_score\n",
    "from tensorflow.python.keras.losses import mean_squared_error, mean_absolute_error"
   ],
   "outputs": [],
   "execution_count": null
  },
  {
   "metadata": {},
   "cell_type": "code",
   "source": [
    "df = pd.read_csv(\"/Users/zafiraibraeva/Code/uni coding/thesis/thesis_code/thesis/webapp/dataset/final_data.csv\")\n",
    "df.shape"
   ],
   "id": "1360b2e5f363fb45",
   "outputs": [],
   "execution_count": null
  },
  {
   "metadata": {},
   "cell_type": "code",
   "source": "df[\"Station1_PM10\"].describe()",
   "id": "fc57c6b737ab21b1",
   "outputs": [],
   "execution_count": null
  },
  {
   "metadata": {},
   "cell_type": "code",
   "source": [
    "df[\"Date\"] = df[\"Unnamed: 0\"]\n",
    "df.drop(\"Unnamed: 0\", axis=1, inplace=True)"
   ],
   "id": "e2601bd11db6ff8e",
   "outputs": [],
   "execution_count": null
  },
  {
   "metadata": {},
   "cell_type": "code",
   "source": "df.set_index(\"Date\", inplace=True)",
   "id": "7685ad5fd0445984",
   "outputs": [],
   "execution_count": null
  },
  {
   "metadata": {},
   "cell_type": "code",
   "source": "df.isna().sum()",
   "id": "dacde9e505407907",
   "outputs": [],
   "execution_count": null
  },
  {
   "metadata": {},
   "cell_type": "code",
   "source": [
    "features = [\n",
    "    \"Station1_CO\", \"Station1_NO2\", \"Station1_NOx\",\n",
    "    \"Station2_CO\", \"Station2_NO2\", \"Station2_NOx\", \"Station2_O3\",\n",
    "    \"Station1_PM10\", \"temp\", \"humidity\", \"precip\",\n",
    "    \"precipcover\", \"cloudcover\", \"windspeed\", \"visibility\",\n",
    "    \"winddir_sin\", \"winddir_cos\", \"is_heating_season\", \"is_work_day\"\n",
    "]\n",
    "target = \"Station2_PM10\""
   ],
   "id": "84275e216ecc23d",
   "outputs": [],
   "execution_count": null
  },
  {
   "metadata": {},
   "cell_type": "code",
   "source": [
    "print(df.isnull().sum())\n",
    "df.fillna(method=\"ffill\", inplace=True) "
   ],
   "id": "7b245588e99962d8",
   "outputs": [],
   "execution_count": null
  },
  {
   "metadata": {},
   "cell_type": "code",
   "source": "df.to_csv(\"/Users/zafiraibraeva/Code/uni coding/thesis/thesis_code/thesis/data/final_data/result_data.csv\")",
   "id": "c90368b79f920fe",
   "outputs": [],
   "execution_count": null
  },
  {
   "metadata": {},
   "cell_type": "code",
   "source": [
    "scaler_target = MinMaxScaler()\n",
    "df[target] = scaler_target.fit_transform(df[target].values.reshape(-1, 1))"
   ],
   "id": "418de1d0601c1da",
   "outputs": [],
   "execution_count": null
  },
  {
   "metadata": {},
   "cell_type": "code",
   "source": [
    "X_train, X_test, y_train, y_test = train_test_split(\n",
    "    df[features],\n",
    "    df[target],\n",
    "    test_size=0.2,\n",
    "    random_state=42\n",
    ")"
   ],
   "id": "66784f60cf0d372a",
   "outputs": [],
   "execution_count": null
  },
  {
   "metadata": {},
   "cell_type": "code",
   "source": "model = LinearRegression()",
   "id": "7939dec1f39a25b6",
   "outputs": [],
   "execution_count": null
  },
  {
   "metadata": {},
   "cell_type": "code",
   "source": "model.fit(X_train, y_train)",
   "id": "7908a700040f0458",
   "outputs": [],
   "execution_count": null
  },
  {
   "metadata": {},
   "cell_type": "code",
   "source": "y_pred = model.predict(X_test)",
   "id": "cdf6a89367667ae3",
   "outputs": [],
   "execution_count": null
  },
  {
   "metadata": {},
   "cell_type": "code",
   "source": [
    "y_test_actual = scaler_target.inverse_transform(y_test.values.reshape(-1, 1)).flatten()\n",
    "y_pred_actual = scaler_target.inverse_transform(y_pred.reshape(-1, 1)).flatten()"
   ],
   "id": "482f763c2a78fc8e",
   "outputs": [],
   "execution_count": null
  },
  {
   "metadata": {},
   "cell_type": "code",
   "source": [
    "plt.figure(figsize=(12, 6))\n",
    "plt.plot(y_test_actual, label='Actual PM10', marker='.')\n",
    "plt.plot(y_pred_actual, label='Predicted PM10', marker='.', alpha=0.7, linestyle='dashed')\n",
    "plt.legend()\n",
    "plt.title('PM10 Prediction with Linear Regression')\n",
    "plt.xlabel('Test Sample Index')\n",
    "plt.ylabel('PM10')\n",
    "plt.show()"
   ],
   "id": "a7f550eb859e0df",
   "outputs": [],
   "execution_count": null
  },
  {
   "metadata": {},
   "cell_type": "code",
   "source": [
    "mae = mean_absolute_error(y_test_actual, y_pred_actual)\n",
    "print(f\"MAE: {mae}\")\n",
    "mse = mean_squared_error(y_test_actual, y_pred_actual)\n",
    "print(f\"MSE: {mse}\")\n",
    "r2 = r2_score(y_test_actual, y_pred_actual)\n",
    "print(f\"R2: {r2}\")"
   ],
   "id": "b844fd610ad6d64d",
   "outputs": [],
   "execution_count": null
  },
  {
   "metadata": {},
   "cell_type": "code",
   "source": [
    "import joblib\n",
    "\n",
    "joblib.dump(model, 'pm10_prediction_model.pkl')"
   ],
   "id": "3fd64af3946f5530",
   "outputs": [],
   "execution_count": null
  }
 ],
 "metadata": {
  "kernelspec": {
   "display_name": "Python 3",
   "language": "python",
   "name": "python3"
  },
  "language_info": {
   "codemirror_mode": {
    "name": "ipython",
    "version": 2
   },
   "file_extension": ".py",
   "mimetype": "text/x-python",
   "name": "python",
   "nbconvert_exporter": "python",
   "pygments_lexer": "ipython2",
   "version": "2.7.6"
  }
 },
 "nbformat": 4,
 "nbformat_minor": 5
}
