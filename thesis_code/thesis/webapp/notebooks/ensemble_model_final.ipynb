{
 "nbformat": 4,
 "nbformat_minor": 0,
 "metadata": {
  "colab": {
   "provenance": []
  },
  "kernelspec": {
   "name": "python3",
   "display_name": "Python 3 (ipykernel)",
   "language": "python"
  },
  "language_info": {
   "name": "python"
  }
 },
 "cells": [
  {
   "cell_type": "code",
   "source": [
    "import numpy as np\n",
    "import pandas as pd\n",
    "import matplotlib.pyplot as plt\n",
    "import seaborn as sns\n",
    "from sklearn.model_selection import train_test_split\n",
    "from sklearn.preprocessing import StandardScaler\n",
    "from sklearn.metrics import mean_squared_error, mean_absolute_error, r2_score\n",
    "from sklearn.ensemble import GradientBoostingRegressor\n",
    "from lightgbm import LGBMRegressor\n",
    "from tensorflow.keras.models import Sequential\n",
    "from tensorflow.keras.layers import Dense, LSTM, GRU, Dropout\n",
    "from tensorflow.keras.optimizers import Adam\n",
    "from tensorflow.keras.callbacks import EarlyStopping\n",
    "import warnings\n",
    "\n",
    "warnings.filterwarnings('ignore')\n",
    "\n",
    "np.random.seed(42)"
   ],
   "metadata": {
    "id": "aFRLLzgJ3nTn"
   },
   "outputs": [],
   "execution_count": null
  },
  {
   "cell_type": "code",
   "source": [
    "df = pd.read_csv(\"/Users/zafiraibraeva/Code/uni coding/thesis/thesis_code/thesis/webapp/dataset/final_data.csv\")\n",
    "\n",
    "print(\"Dataset Info:\")\n",
    "df.info()\n",
    "\n",
    "df.head()"
   ],
   "metadata": {
    "colab": {
     "base_uri": "https://localhost:8080/",
     "height": 967
    },
    "id": "1hW_HLg74cLu",
    "outputId": "e6a24f8c-910f-436b-ba38-9abf742a75a5"
   },
   "outputs": [],
   "execution_count": null
  },
  {
   "cell_type": "code",
   "source": [
    "df.drop('Unnamed: 0', axis=1, inplace=True)"
   ],
   "metadata": {
    "id": "sv5iY2h74hUO"
   },
   "outputs": [],
   "execution_count": null
  },
  {
   "cell_type": "code",
   "source": [
    "features = [\n",
    "    \"Station1_CO\", \"Station1_NO2\", \"Station1_NOx\",\n",
    "    \"Station2_CO\", \"Station2_NO2\", \"Station2_NOx\", \"Station2_O3\",\n",
    "    \"Station1_SO2\", \"Station2_SO2\",\n",
    "    \"Station1_PM10\", \"temp\", \"humidity\", \"precip\",\n",
    "    \"precipcover\", \"cloudcover\", \"windspeed\", \"visibility\",\n",
    "    \"winddir_sin\", \"winddir_cos\", \"is_heating_season\", \"is_work_day\",\n",
    "    \"year\", \"month\", \"day\"\n",
    "]\n",
    "target = \"Station2_PM10\"\n",
    "\n",
    "print(\"\\nMissing values:\")\n",
    "print(df[features + [target]].isnull().sum())"
   ],
   "metadata": {
    "colab": {
     "base_uri": "https://localhost:8080/"
    },
    "id": "KUo53X184lDN",
    "outputId": "62fd2247-442f-43e8-b9a2-a4a262fd9017"
   },
   "outputs": [],
   "execution_count": null
  },
  {
   "cell_type": "code",
   "source": [
    "plt.figure(figsize=(10, 5))\n",
    "sns.histplot(df[target], kde=True)\n",
    "plt.title('PM10 Distribution at Station 2')\n",
    "plt.xlabel('PM10 Concentration')\n",
    "plt.ylabel('Frequency')\n",
    "plt.show()"
   ],
   "metadata": {
    "colab": {
     "base_uri": "https://localhost:8080/",
     "height": 487
    },
    "id": "-sa9jt8-4n8V",
    "outputId": "d541e46b-cda1-4e23-ff3b-ebe3ea4dbb83"
   },
   "outputs": [],
   "execution_count": null
  },
  {
   "cell_type": "code",
   "source": [
    "X = df[features].values\n",
    "y = df[target].values\n",
    "\n",
    "X_train, X_test, y_train, y_test = train_test_split(\n",
    "    X, y, test_size=0.2, random_state=42, shuffle=False)\n",
    "\n",
    "scaler = StandardScaler()\n",
    "X_train_scaled = scaler.fit_transform(X_train)\n",
    "X_test_scaled = scaler.transform(X_test)\n",
    "\n",
    "\n",
    "def create_sequences(data, targets, time_steps=30):\n",
    "    X_seq, y_seq = [], []\n",
    "    for i in range(time_steps, len(data)):\n",
    "        X_seq.append(data[i - time_steps:i, :])\n",
    "        y_seq.append(targets[i])\n",
    "    return np.array(X_seq), np.array(y_seq)\n",
    "\n",
    "time_steps = 30\n",
    "X_train_seq, y_train_seq = create_sequences(X_train_scaled, y_train, time_steps)\n",
    "X_test_seq, y_test_seq = create_sequences(X_test_scaled, y_test, time_steps)\n",
    "\n",
    "print(f\"Training data shape: {X_train_scaled.shape}\")\n",
    "print(f\"Test data shape: {X_test_scaled.shape}\")\n",
    "print(f\"Training sequences shape: {X_train_seq.shape}\")\n",
    "print(f\"Test sequences shape: {X_test_seq.shape}\")"
   ],
   "metadata": {
    "colab": {
     "base_uri": "https://localhost:8080/"
    },
    "id": "2Wde12zL5rzI",
    "outputId": "b69988fd-f16c-45f3-87fd-ea4ee75e1354"
   },
   "outputs": [],
   "execution_count": null
  },
  {
   "cell_type": "code",
   "source": [
    "print(\"Training GBDT model...\")\n",
    "gbdt = GradientBoostingRegressor(\n",
    "    n_estimators=300,\n",
    "    max_depth=6,\n",
    "    learning_rate=0.05,\n",
    "    subsample=0.8,\n",
    "    min_samples_split=5,\n",
    "    random_state=42,\n",
    "    verbose=1\n",
    ")\n",
    "gbdt.fit(X_train_scaled, y_train)"
   ],
   "metadata": {
    "colab": {
     "base_uri": "https://localhost:8080/",
     "height": 514
    },
    "id": "rWfERctU54j_",
    "outputId": "99797112-7742-4715-8b27-2ec93675d51b"
   },
   "outputs": [],
   "execution_count": null
  },
  {
   "cell_type": "code",
   "source": [
    "gbdt_pred = gbdt.predict(X_test_scaled)\n",
    "gbdt_mse = mean_squared_error(y_test, gbdt_pred)\n",
    "gbdt_mae = mean_absolute_error(y_test, gbdt_pred)\n",
    "gbdt_r2 = r2_score(y_test, gbdt_pred)\n",
    "\n",
    "print(f\"\\nGBDT Performance:\")\n",
    "print(f\"MSE: {gbdt_mse:.4f}\")\n",
    "print(f\"MAE: {gbdt_mae:.4f}\")\n",
    "print(f\"R2: {gbdt_r2:.4f}\")\n",
    "\n",
    "plt.figure(figsize=(12, 6))\n",
    "feat_importances = pd.Series(gbdt.feature_importances_, index=features)\n",
    "feat_importances.nlargest(15).plot(kind='barh')\n",
    "plt.title('GBDT Feature Importance')\n",
    "plt.show()"
   ],
   "metadata": {
    "colab": {
     "base_uri": "https://localhost:8080/",
     "height": 576
    },
    "id": "SZt7kw8b59wE",
    "outputId": "3e9b6cd8-f798-46d8-dc5d-864c45959092"
   },
   "outputs": [],
   "execution_count": null
  },
  {
   "cell_type": "code",
   "source": [
    "print(\"Training DART model...\")\n",
    "dart = LGBMRegressor(\n",
    "    boosting_type='dart',\n",
    "    n_estimators=300,\n",
    "    max_depth=5,\n",
    "    learning_rate=0.05,\n",
    "    subsample=0.8,\n",
    "    colsample_bytree=0.8,\n",
    "    drop_rate=0.1,\n",
    "    random_state=42,\n",
    "    verbose=-1\n",
    ")\n",
    "dart.fit(X_train_scaled, y_train)"
   ],
   "metadata": {
    "colab": {
     "base_uri": "https://localhost:8080/",
     "height": 132
    },
    "id": "5-RCGsCU6V-6",
    "outputId": "6f057049-a345-4e59-8c0b-f577edf5832f"
   },
   "outputs": [],
   "execution_count": null
  },
  {
   "cell_type": "code",
   "source": [
    "dart_pred = dart.predict(X_test_scaled)\n",
    "dart_mse = mean_squared_error(y_test, dart_pred)\n",
    "dart_mae = mean_absolute_error(y_test, dart_pred)\n",
    "dart_r2 = r2_score(y_test, dart_pred)\n",
    "\n",
    "print(f\"\\nDART Performance:\")\n",
    "print(f\"MSE: {dart_mse:.4f}\")\n",
    "print(f\"MAE: {dart_mae:.4f}\")\n",
    "print(f\"R2: {dart_r2:.4f}\")\n",
    "\n",
    "plt.figure(figsize=(12, 6))\n",
    "feat_importances = pd.Series(dart.feature_importances_, index=features)\n",
    "feat_importances.nlargest(15).plot(kind='barh')\n",
    "plt.title('DART Feature Importance')\n",
    "plt.show()"
   ],
   "metadata": {
    "colab": {
     "base_uri": "https://localhost:8080/",
     "height": 576
    },
    "id": "OGFqxjUz6d2y",
    "outputId": "9060164c-2113-4885-eb02-89612aa44352"
   },
   "outputs": [],
   "execution_count": null
  },
  {
   "cell_type": "code",
   "source": [
    "print(\"Training LightGBM model...\")\n",
    "lgbm = LGBMRegressor(\n",
    "    n_estimators=300,\n",
    "    max_depth=5,\n",
    "    learning_rate=0.05,\n",
    "    subsample=0.8,\n",
    "    colsample_bytree=0.8,\n",
    "    random_state=42,\n",
    "    verbose=-1\n",
    ")\n",
    "lgbm.fit(X_train_scaled, y_train)"
   ],
   "metadata": {
    "colab": {
     "base_uri": "https://localhost:8080/",
     "height": 115
    },
    "id": "707vhSza6hJz",
    "outputId": "13817a5f-bcb5-49a7-db38-8515b7110ca9"
   },
   "outputs": [],
   "execution_count": null
  },
  {
   "metadata": {},
   "cell_type": "code",
   "source": "",
   "outputs": [],
   "execution_count": null
  },
  {
   "cell_type": "code",
   "source": [
    "lgbm_pred = lgbm.predict(X_test_scaled)\n",
    "lgbm_mse = mean_squared_error(y_test, lgbm_pred)\n",
    "lgbm_mae = mean_absolute_error(y_test, lgbm_pred)\n",
    "lgbm_r2 = r2_score(y_test, lgbm_pred)\n",
    "\n",
    "print(f\"\\nLightGBM Performance:\")\n",
    "print(f\"MSE: {lgbm_mse:.4f}\")\n",
    "print(f\"MAE: {lgbm_mae:.4f}\")\n",
    "print(f\"R2: {lgbm_r2:.4f}\")\n",
    "\n",
    "plt.figure(figsize=(12, 6))\n",
    "feat_importances = pd.Series(lgbm.feature_importances_, index=features)\n",
    "feat_importances.nlargest(15).plot(kind='barh')\n",
    "plt.title('LightGBM Feature Importance')\n",
    "plt.show()"
   ],
   "metadata": {
    "colab": {
     "base_uri": "https://localhost:8080/",
     "height": 576
    },
    "id": "VODJLM0t6l8D",
    "outputId": "d7ee61f4-b851-4907-f1b3-199b135fe517"
   },
   "outputs": [],
   "execution_count": null
  },
  {
   "cell_type": "code",
   "source": [
    "lstm_model = Sequential([\n",
    "    LSTM(512, return_sequences=True, input_shape=(time_steps, X_train_seq.shape[2])),\n",
    "    Dropout(0.3),\n",
    "    LSTM(256),\n",
    "    Dropout(0.2),\n",
    "    Dense(64, activation='relu'),\n",
    "    Dense(32, activation='relu'),\n",
    "    Dense(1)\n",
    "])\n",
    "\n",
    "lstm_model.compile(optimizer=Adam(learning_rate=0.001),\n",
    "                   loss='mse',\n",
    "                   metrics=['mae'])\n",
    "\n",
    "early_stop = EarlyStopping(monitor='val_loss', patience=10, restore_best_weights=True)\n",
    "\n",
    "print(\"Training LSTM model...\")\n",
    "lstm_history = lstm_model.fit(\n",
    "    X_train_seq, y_train_seq,\n",
    "    epochs=100,\n",
    "    batch_size=64,\n",
    "    validation_split=0.2,\n",
    "    callbacks=[early_stop],\n",
    "    verbose=1\n",
    ")"
   ],
   "metadata": {
    "colab": {
     "base_uri": "https://localhost:8080/"
    },
    "id": "ce7iH3ol6pTR",
    "outputId": "139c5c31-1137-4c31-943d-2b1639ba0739"
   },
   "outputs": [],
   "execution_count": null
  },
  {
   "cell_type": "code",
   "source": [
    "plt.figure(figsize=(12, 5))\n",
    "plt.plot(lstm_history.history['loss'], label='Train Loss')\n",
    "plt.plot(lstm_history.history['val_loss'], label='Validation Loss')\n",
    "plt.title('LSTM Training History')\n",
    "plt.xlabel('Epochs')\n",
    "plt.ylabel('Loss')\n",
    "plt.legend()\n",
    "plt.show()"
   ],
   "metadata": {
    "id": "fUTf_WNS60M6",
    "colab": {
     "base_uri": "https://localhost:8080/",
     "height": 461
    },
    "outputId": "52076b19-110f-47a4-e3b4-a06f3d91ea77"
   },
   "outputs": [],
   "execution_count": null
  },
  {
   "cell_type": "code",
   "source": [
    "lstm_pred = lstm_model.predict(X_test_seq).flatten()\n",
    "lstm_mse = mean_squared_error(y_test_seq, lstm_pred)\n",
    "lstm_mae = mean_absolute_error(y_test_seq, lstm_pred)\n",
    "lstm_r2 = r2_score(y_test_seq, lstm_pred)\n",
    "\n",
    "print(f\"\\nLSTM Performance:\")\n",
    "print(f\"MSE: {lstm_mse:.4f}\")\n",
    "print(f\"MAE: {lstm_mae:.4f}\")\n",
    "print(f\"R2: {lstm_r2:.4f}\")\n",
    "\n",
    "plt.figure(figsize=(12, 6))\n",
    "plt.plot(y_test_seq[:200], label='Actual PM10', alpha=0.7)\n",
    "plt.plot(lstm_pred[:200], label='Predicted PM10', alpha=0.7)\n",
    "plt.title('LSTM Predictions vs Actual (First 200 Samples)')\n",
    "plt.xlabel('Samples')\n",
    "plt.ylabel('PM10 Concentration')\n",
    "plt.legend()\n",
    "plt.show()"
   ],
   "metadata": {
    "colab": {
     "base_uri": "https://localhost:8080/",
     "height": 643
    },
    "id": "UMQyRFFU9z1A",
    "outputId": "055bf775-ec73-4759-8312-e498c7dc162d"
   },
   "outputs": [],
   "execution_count": null
  },
  {
   "cell_type": "code",
   "source": [
    "gru_model = Sequential([\n",
    "    GRU(128, return_sequences=True, input_shape=(time_steps, X_train_seq.shape[2])),\n",
    "    Dropout(0.3),\n",
    "    GRU(64),\n",
    "    Dropout(0.2),\n",
    "    Dense(64, activation='relu'),\n",
    "    Dense(32, activation='relu'),\n",
    "    Dense(1)\n",
    "])\n",
    "\n",
    "gru_model.compile(optimizer=Adam(learning_rate=0.001),\n",
    "                  loss='mse',\n",
    "                  metrics=['mae'])\n",
    "\n",
    "print(\"Training GRU model...\")\n",
    "gru_history = gru_model.fit(\n",
    "    X_train_seq, y_train_seq,\n",
    "    epochs=150,\n",
    "    batch_size=64,\n",
    "    validation_split=0.2,\n",
    "    callbacks=[early_stop],\n",
    "    verbose=1\n",
    ")"
   ],
   "metadata": {
    "colab": {
     "base_uri": "https://localhost:8080/"
    },
    "id": "pNjnRSV795oE",
    "outputId": "0357ffc4-fb58-4a62-e2f8-a7a2ca37d798"
   },
   "outputs": [],
   "execution_count": null
  },
  {
   "cell_type": "code",
   "source": [
    "plt.figure(figsize=(12, 5))\n",
    "plt.plot(gru_history.history['loss'], label='Train Loss')\n",
    "plt.plot(gru_history.history['val_loss'], label='Validation Loss')\n",
    "plt.title('GRU Training History')\n",
    "plt.xlabel('Epochs')\n",
    "plt.ylabel('Loss')\n",
    "plt.legend()\n",
    "plt.show()"
   ],
   "metadata": {
    "colab": {
     "base_uri": "https://localhost:8080/",
     "height": 461
    },
    "id": "otZdj9zd99MT",
    "outputId": "e19724ad-68d6-49de-9a57-e6507b39052f"
   },
   "outputs": [],
   "execution_count": null
  },
  {
   "cell_type": "code",
   "source": [
    "gru_pred = gru_model.predict(X_test_seq).flatten()\n",
    "gru_mse = mean_squared_error(y_test_seq, gru_pred)\n",
    "gru_mae = mean_absolute_error(y_test_seq, gru_pred)\n",
    "gru_r2 = r2_score(y_test_seq, gru_pred)\n",
    "\n",
    "print(f\"\\nGRU Performance:\")\n",
    "print(f\"MSE: {gru_mse:.4f}\")\n",
    "print(f\"MAE: {gru_mae:.4f}\")\n",
    "print(f\"R2: {gru_r2:.4f}\")\n",
    "\n",
    "plt.figure(figsize=(12, 6))\n",
    "plt.plot(y_test_seq[:200], label='Actual PM10', alpha=0.7)\n",
    "plt.plot(gru_pred[:200], label='Predicted PM10', alpha=0.7)\n",
    "plt.title('GRU Predictions vs Actual (First 200 Samples)')\n",
    "plt.xlabel('Samples')\n",
    "plt.ylabel('PM10 Concentration')\n",
    "plt.legend()\n",
    "plt.show()"
   ],
   "metadata": {
    "colab": {
     "base_uri": "https://localhost:8080/",
     "height": 643
    },
    "id": "lomtUuiV9_yR",
    "outputId": "cd7246ee-61d7-457f-b95d-39295a861914"
   },
   "outputs": [],
   "execution_count": null
  },
  {
   "cell_type": "code",
   "source": [
    "def get_meta_features(X_tree, X_seq, models):\n",
    "    tree_preds = {\n",
    "        'gbdt': models['gbdt'].predict(X_tree),\n",
    "        'dart': models['dart'].predict(X_tree),\n",
    "        'lgbm': models['lgbm'].predict(X_tree)\n",
    "    }\n",
    "\n",
    "    seq_preds = {\n",
    "        'lstm': models['lstm'].predict(X_seq).flatten(),\n",
    "        'gru': models['gru'].predict(X_seq).flatten()\n",
    "    }\n",
    "\n",
    "    # Align predictions\n",
    "    min_len = min(len(p) for p in [*tree_preds.values(), *seq_preds.values()])\n",
    "\n",
    "    meta_X = np.column_stack([\n",
    "        tree_preds['gbdt'][-min_len:],\n",
    "        tree_preds['dart'][-min_len:],\n",
    "        tree_preds['lgbm'][-min_len:],\n",
    "        seq_preds['lstm'][-min_len:],\n",
    "        seq_preds['gru'][-min_len:]\n",
    "    ])\n",
    "\n",
    "    return meta_X"
   ],
   "metadata": {
    "id": "pQnxjE-V-Frx"
   },
   "outputs": [],
   "execution_count": null
  },
  {
   "cell_type": "code",
   "source": [
    "meta_X_train = get_meta_features(X_train_scaled[time_steps:], X_train_seq,\n",
    "                                 {'gbdt': gbdt, 'dart': dart, 'lgbm': lgbm,\n",
    "                                  'lstm': lstm_model, 'gru': gru_model})\n",
    "meta_y_train = y_train[time_steps:len(X_train_scaled[time_steps:]) + time_steps]\n",
    "\n",
    "meta_X_test = get_meta_features(X_test_scaled[time_steps:], X_test_seq,\n",
    "                                {'gbdt': gbdt, 'dart': dart, 'lgbm': lgbm,\n",
    "                                 'lstm': lstm_model, 'gru': gru_model})\n",
    "meta_y_test = y_test[time_steps:len(X_test_scaled[time_steps:]) + time_steps]\n",
    "\n",
    "print(f\"Meta-features training shape: {meta_X_train.shape}\")\n",
    "print(f\"Meta-features test shape: {meta_X_test.shape}\")"
   ],
   "metadata": {
    "colab": {
     "base_uri": "https://localhost:8080/"
    },
    "id": "g5F8gKW_-HMN",
    "outputId": "5819009e-b9f9-42e9-c36a-fed864e35f72"
   },
   "outputs": [],
   "execution_count": null
  },
  {
   "cell_type": "code",
   "source": [
    "meta_model = Sequential([\n",
    "    Dense(64, activation='relu', input_dim=meta_X_train.shape[1]),\n",
    "    Dropout(0.3),\n",
    "    Dense(32, activation='relu'),\n",
    "    Dense(1)\n",
    "])\n",
    "\n",
    "meta_model.compile(optimizer=Adam(learning_rate=0.001),\n",
    "                   loss='mse')\n",
    "\n",
    "print(\"Training meta-model...\")\n",
    "meta_history = meta_model.fit(\n",
    "    meta_X_train, meta_y_train,\n",
    "    epochs=100,\n",
    "    batch_size=64,\n",
    "    validation_split=0.2,\n",
    "    callbacks=[early_stop],\n",
    "    verbose=1\n",
    ")"
   ],
   "metadata": {
    "colab": {
     "base_uri": "https://localhost:8080/"
    },
    "id": "xlw_zRqv-KqN",
    "outputId": "d1eb19f5-6f9c-470e-aa7b-e515d4e54454"
   },
   "outputs": [],
   "execution_count": null
  },
  {
   "cell_type": "code",
   "source": [
    "plt.figure(figsize=(12, 5))\n",
    "plt.plot(meta_history.history['loss'], label='Train Loss')\n",
    "plt.plot(meta_history.history['val_loss'], label='Validation Loss')\n",
    "plt.title('Meta-Model Training History')\n",
    "plt.xlabel('Epochs')\n",
    "plt.ylabel('Loss')\n",
    "plt.legend()\n",
    "plt.show()"
   ],
   "metadata": {
    "colab": {
     "base_uri": "https://localhost:8080/",
     "height": 465
    },
    "id": "OHTqGoUk-R4s",
    "outputId": "87f5c4ba-fa18-4530-ff0c-447cb4f93393"
   },
   "outputs": [],
   "execution_count": null
  },
  {
   "cell_type": "code",
   "source": [
    "base_results = {\n",
    "    'GBDT': {'mse': gbdt_mse, 'mae': gbdt_mae, 'r2': gbdt_r2},\n",
    "    'DART': {'mse': dart_mse, 'mae': dart_mae, 'r2': dart_r2},\n",
    "    'LightGBM': {'mse': lgbm_mse, 'mae': lgbm_mae, 'r2': lgbm_r2},\n",
    "    'LSTM': {'mse': lstm_mse, 'mae': lstm_mae, 'r2': lstm_r2},\n",
    "    'GRU': {'mse': gru_mse, 'mae': gru_mae, 'r2': gru_r2}\n",
    "}\n",
    "\n",
    "print(\"Base Model Performance:\")\n",
    "display(pd.DataFrame(base_results).T)"
   ],
   "metadata": {
    "colab": {
     "base_uri": "https://localhost:8080/",
     "height": 223
    },
    "id": "_506nSTP-SrI",
    "outputId": "34cbe274-321d-4713-b3b8-36ef4ef7275b"
   },
   "outputs": [],
   "execution_count": null
  },
  {
   "cell_type": "code",
   "source": [
    "ensemble_pred = meta_model.predict(meta_X_test).flatten()\n",
    "ensemble_mse = mean_squared_error(meta_y_test, ensemble_pred)\n",
    "ensemble_mae = mean_absolute_error(meta_y_test, ensemble_pred)\n",
    "ensemble_r2 = r2_score(meta_y_test, ensemble_pred)\n",
    "\n",
    "print(\"\\nEnsemble Model Performance:\")\n",
    "print(f\"MSE: {ensemble_mse:.4f}\")\n",
    "print(f\"MAE: {ensemble_mae:.4f}\")\n",
    "print(f\"R2: {ensemble_r2:.4f}\")\n",
    "\n",
    "plt.figure(figsize=(12, 6))\n",
    "plt.plot(meta_y_test[:200], label='Actual PM10', alpha=0.7)\n",
    "plt.plot(ensemble_pred[:200], label='Predicted PM10', alpha=0.7)\n",
    "plt.title('Ensemble Predictions vs Actual (First 200 Samples)')\n",
    "plt.xlabel('Samples')\n",
    "plt.ylabel('PM10 Concentration')\n",
    "plt.legend()\n",
    "plt.show()"
   ],
   "metadata": {
    "colab": {
     "base_uri": "https://localhost:8080/",
     "height": 643
    },
    "id": "L4tm5vlb-Vhb",
    "outputId": "480d5e73-e177-47d0-cfb8-bd3ec9d37b02"
   },
   "outputs": [],
   "execution_count": null
  },
  {
   "cell_type": "code",
   "source": [
    "plt.figure(figsize=(12, 6))\n",
    "plt.plot(meta_y_test, label='Actual PM10')\n",
    "plt.plot(ensemble_pred, label='Predicted PM10', alpha=0.7, marker='.')\n",
    "plt.title('Ensemble Predictions vs Actual')\n",
    "plt.xlabel('Samples')\n",
    "plt.ylabel('PM10 Concentration')\n",
    "plt.legend()\n",
    "plt.show()"
   ],
   "metadata": {
    "colab": {
     "base_uri": "https://localhost:8080/",
     "height": 538
    },
    "id": "RhSozY3aByLQ",
    "outputId": "f11378dd-d09c-46d2-d8cc-7f994028121f"
   },
   "outputs": [],
   "execution_count": null
  },
  {
   "metadata": {},
   "cell_type": "code",
   "source": [
    "meta_model.compile(optimizer='adam', loss='mse')  \n",
    "meta_model.save('ensemble_model.keras', include_optimizer=True)  "
   ],
   "outputs": [],
   "execution_count": null
  }
 ]
}
