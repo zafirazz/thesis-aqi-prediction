{
 "cells": [
  {
   "cell_type": "code",
   "id": "initial_id",
   "metadata": {
    "collapsed": true
   },
   "source": [
    "import pandas as pd\n",
    "import numpy as np\n",
    "\n",
    "import matplotlib.pyplot as plt\n",
    "import missingno as msno\n"
   ],
   "outputs": [],
   "execution_count": null
  },
  {
   "metadata": {},
   "cell_type": "code",
   "source": [
    "df_pollutants = pd.read_csv(\"/data/AQI data/AQI_hourly.csv\", sep=\";\", decimal=',', encoding=\"utf-8\")\n",
    "\n",
    "df_pollutants.shape"
   ],
   "id": "5c9669a85acfbb31",
   "outputs": [],
   "execution_count": null
  },
  {
   "metadata": {},
   "cell_type": "code",
   "source": "df_pollutants.head()",
   "id": "8552f430a18449c8",
   "outputs": [],
   "execution_count": null
  },
  {
   "metadata": {},
   "cell_type": "code",
   "source": "df_pollutants.dtypes",
   "id": "249549cadb110a0",
   "outputs": [],
   "execution_count": null
  },
  {
   "metadata": {},
   "cell_type": "code",
   "source": [
    "df_pollutants['Date'] = pd.to_datetime(df_pollutants['Date'], errors='coerce', format='%Y-%m-%d %H:%M:%S')\n",
    "cols = [col for col in df_pollutants.columns if col != 'Date']"
   ],
   "id": "ef6ea72e1a99057f",
   "outputs": [],
   "execution_count": null
  },
  {
   "metadata": {},
   "cell_type": "code",
   "source": "df_pollutants.dtypes",
   "id": "abb4bbd72d681d2c",
   "outputs": [],
   "execution_count": null
  },
  {
   "metadata": {},
   "cell_type": "code",
   "source": "df_pollutants.head()",
   "id": "52464784a2fb94bc",
   "outputs": [],
   "execution_count": null
  },
  {
   "metadata": {},
   "cell_type": "code",
   "source": [
    "df_copy = df_pollutants.copy()\n",
    "df_copy.set_index('Date', inplace=True)\n",
    "df_copy"
   ],
   "id": "e3ec3b7d8c1634d8",
   "outputs": [],
   "execution_count": null
  },
  {
   "metadata": {},
   "cell_type": "code",
   "source": "msno.matrix(df_copy)",
   "id": "c40584b9239d78a1",
   "outputs": [],
   "execution_count": null
  },
  {
   "metadata": {},
   "cell_type": "code",
   "source": [
    "df_pollutants.set_index('Date', inplace=True)\n",
    "df_pollutants['Year'] = df_pollutants.index.year\n",
    "df_pollutants['Month'] = df_pollutants.index.month\n",
    "df_pollutants['Day'] = df_pollutants.index.day\n",
    "df_pollutants['WeekDay'] = df_pollutants.index.day_name()\n",
    "\n",
    "def get_season(month):\n",
    "    if month in [12, 1, 2]:\n",
    "        return 'Winter'\n",
    "    elif month in [3, 4, 5]:\n",
    "        return 'Spring'\n",
    "    elif month in [6, 7, 8]:\n",
    "        return 'Summer'\n",
    "    elif month in [9, 10, 11]:\n",
    "        return 'Fall'\n",
    "    \n",
    "df_pollutants['Season'] = df_pollutants.index.month.map(get_season)"
   ],
   "id": "9c3113a0aed21186",
   "outputs": [],
   "execution_count": null
  },
  {
   "metadata": {},
   "cell_type": "code",
   "source": "df_pollutants.columns",
   "id": "1268f71c202a547a",
   "outputs": [],
   "execution_count": null
  },
  {
   "metadata": {},
   "cell_type": "code",
   "source": "# df_pollutants.drop([\"Station2_NO\", \"Station2_PM2.5\"], axis=1, inplace=True)",
   "id": "a129d618db489870",
   "outputs": [],
   "execution_count": null
  },
  {
   "metadata": {},
   "cell_type": "code",
   "source": [
    "# daily_avg = df_pollutants[[\"Station1_PM10\", \"Station2_PM10\", \"Station1_NO2\", \"Station2_NO2\", \"Station1_SO2\", \"Station2_SO2\"]].mean()\n",
    "# daily_avg"
   ],
   "id": "22f3552d4261d3ba",
   "outputs": [],
   "execution_count": null
  },
  {
   "metadata": {},
   "cell_type": "code",
   "source": [
    "# seasonal_avg = df_pollutants.groupby('Season')[[\"Station1_PM10\", \"Station2_PM10\",  \"Station1_SO2\", \"Station2_SO2\"]].mean()\n",
    "# print(\"Seasonal average\")\n",
    "# print(seasonal_avg)"
   ],
   "id": "ae2432b8c2951856",
   "outputs": [],
   "execution_count": null
  },
  {
   "metadata": {},
   "cell_type": "code",
   "source": [
    "# yearly_avg = df_pollutants.groupby('Year')[[\"Station1_PM10\", \"Station2_PM10\",  \"Station1_SO2\", \"Station2_SO2\"]].mean()\n",
    "# print(\"Yearly average\")\n",
    "# print(yearly_avg)"
   ],
   "id": "e1b7c9261f4016b3",
   "outputs": [],
   "execution_count": null
  },
  {
   "metadata": {},
   "cell_type": "code",
   "source": [
    "missing_values = df_pollutants.isnull().sum()\n",
    "print(missing_values)"
   ],
   "id": "d3df6ba892a9745",
   "outputs": [],
   "execution_count": null
  },
  {
   "metadata": {},
   "cell_type": "markdown",
   "source": "",
   "id": "d31cc67e688b1a4d"
  },
  {
   "metadata": {},
   "cell_type": "code",
   "source": [
    "from sklearn.impute import KNNImputer\n",
    "\n",
    "knn_imputer = KNNImputer(n_neighbors=5)\n",
    "\n",
    "pollutants = set([col.split(\"_\")[-1] for col in df_pollutants.columns if \"_\" in col])\n",
    "print(pollutants)\n",
    "\n",
    "for pol in pollutants:\n",
    "    station1_col = f\"Station1_{pol}\"\n",
    "    station2_col = f\"Station2_{pol}\"\n",
    "\n",
    "    if station1_col in df_pollutants.columns and station2_col in df_pollutants.columns:\n",
    "        data_to_impute = df_pollutants[[station1_col, station2_col]]\n",
    "\n",
    "        imputed_data = knn_imputer.fit_transform(data_to_impute)\n",
    "\n",
    "        df_pollutants[station1_col], df_pollutants[station2_col] = imputed_data[:, 0], imputed_data[:, 1]\n"
   ],
   "id": "a1915bd897851f9c",
   "outputs": [],
   "execution_count": null
  },
  {
   "metadata": {},
   "cell_type": "code",
   "source": [
    "missing_values = df_pollutants.isnull().sum()\n",
    "print(missing_values)"
   ],
   "id": "758f0406d9f2230b",
   "outputs": [],
   "execution_count": null
  },
  {
   "metadata": {},
   "cell_type": "code",
   "source": "df_pm25 = df_pollutants[pd.notna(df_pollutants['Station2_PM2.5'])]",
   "id": "99ecdbce1dcbe031",
   "outputs": [],
   "execution_count": null
  },
  {
   "metadata": {},
   "cell_type": "code",
   "source": "df_pm25.to_csv(\"/Users/zafiraibraeva/Code/uni coding/thesis/thesis_code/thesis/data/final_data/final_data_with_pm2.5\")",
   "id": "281640e5e966f1c2",
   "outputs": [],
   "execution_count": null
  },
  {
   "metadata": {},
   "cell_type": "code",
   "source": "df_pollutants = df_pollutants.ffill()",
   "id": "ff87bc946da4fd96",
   "outputs": [],
   "execution_count": null
  },
  {
   "metadata": {},
   "cell_type": "code",
   "source": [
    "missing_values = df_pollutants.isna().sum()\n",
    "missing_values"
   ],
   "id": "763ce098752b10bd",
   "outputs": [],
   "execution_count": null
  },
  {
   "metadata": {},
   "cell_type": "code",
   "source": "df_pollutants.drop('Station2_PM2.5', axis=1, inplace=True)",
   "id": "ff0e8a8475698a37",
   "outputs": [],
   "execution_count": null
  },
  {
   "metadata": {},
   "cell_type": "code",
   "source": "df_pollutants.columns",
   "id": "ef538434db436fe4",
   "outputs": [],
   "execution_count": null
  },
  {
   "metadata": {},
   "cell_type": "code",
   "source": [
    "yearly_avg = df_pollutants.groupby('Year')[[\"Station1_PM10\", \"Station2_PM10\", \"Station1_SO2\", \"Station2_SO2\"]].mean()\n",
    "print(\"Yearly average\")\n",
    "print(yearly_avg)"
   ],
   "id": "7830f7759907d8a5",
   "outputs": [],
   "execution_count": null
  },
  {
   "metadata": {},
   "cell_type": "code",
   "source": "df_pollutants['Station2_O3'] = pd.to_numeric(df_pollutants['Station2_O3'], errors='coerce')",
   "id": "dc097841edfd916b",
   "outputs": [],
   "execution_count": null
  },
  {
   "metadata": {},
   "cell_type": "code",
   "source": [
    "df_values = pd.DataFrame(df_pollutants)\n",
    "df_values = df_pollutants.drop([\"Year\", \"Month\", \"Season\", \"Day\", \"WeekDay\"], axis=1)\n",
    "df_values = df_values.replace({',': '.'}, regex=True)\n"
   ],
   "id": "4f352a56e6966923",
   "outputs": [],
   "execution_count": null
  },
  {
   "metadata": {},
   "cell_type": "code",
   "source": [
    "import seaborn as sns\n",
    "\n",
    "\n",
    "corr_matrix = df_values[df_values.columns].corr()\n",
    "\n",
    "plt.figure(figsize=(12, 8))\n",
    "sns.heatmap(corr_matrix, annot=True, cmap='coolwarm', fmt='.2f')\n",
    "plt.title(\"Correlation matrix\")\n",
    "plt.show()"
   ],
   "id": "b981a57062adbd77",
   "outputs": [],
   "execution_count": null
  },
  {
   "metadata": {},
   "cell_type": "code",
   "source": [
    "df_val = pd.DataFrame(df_pm25)\n",
    "df_val = df_pm25.drop([\"Year\", \"Month\", \"Season\", \"Day\", \"WeekDay\"], axis=1)\n",
    "df_val = df_val.replace({',': '.'}, regex=True)\n"
   ],
   "id": "7f9fdccc8c52f641",
   "outputs": [],
   "execution_count": null
  },
  {
   "metadata": {},
   "cell_type": "code",
   "source": [
    "import seaborn as sns\n",
    "\n",
    "\n",
    "corr_matrix = df_val[df_val.columns].corr()\n",
    "\n",
    "plt.figure(figsize=(12, 8))\n",
    "sns.heatmap(corr_matrix, annot=True, cmap='coolwarm', fmt='.2f')\n",
    "plt.title(\"Correlation matrix\")\n",
    "plt.show()"
   ],
   "id": "c9cd27d0ccd602d6",
   "outputs": [],
   "execution_count": null
  },
  {
   "metadata": {},
   "cell_type": "code",
   "source": [
    "def plot_mean(df, grouping):\n",
    "    station1_mean = df.groupby(grouping)['Station1_PM10'].mean()\n",
    "    station2_mean = df.groupby(grouping)['Station2_PM10'].mean()\n",
    "    \n",
    "    station1_mean.plot(label='Kalotaszeg ter station - PM10', marker='o')  \n",
    "    station2_mean.plot(label='Hajnal ut station - PM10', marker='o') \n",
    "    \n",
    "    plt.title(f'{grouping} Average PM10 Levels') \n",
    "    plt.xlabel(f'{grouping}')                      \n",
    "    plt.ylabel('PM10 Concentration')        \n",
    "    plt.legend()                           \n",
    "    \n",
    "    plt.show()"
   ],
   "id": "4c74abe0a82a1b3e",
   "outputs": [],
   "execution_count": null
  },
  {
   "metadata": {},
   "cell_type": "code",
   "source": [
    "plot_mean(df_pollutants, \"Year\")\n",
    "plot_mean(df_pollutants, \"Season\")\n",
    "plot_mean(df_pollutants, \"Month\")\n",
    "plot_mean(df_pollutants, \"WeekDay\")"
   ],
   "id": "d2cb593b595e69af",
   "outputs": [],
   "execution_count": null
  },
  {
   "metadata": {},
   "cell_type": "code",
   "source": [
    "from matplotlib import cm\n",
    "\n",
    "def plot_aqi(df, value):\n",
    "    unique_years = df['Year'].unique()\n",
    "    months = np.arange(1, 13) \n",
    "    \n",
    "    plt.figure(figsize=(12, 8))\n",
    "    \n",
    "    colors = cm.viridis(np.linspace(0, 1, len(unique_years)))\n",
    "    \n",
    "    for i, year in enumerate(unique_years):\n",
    "        monthly_data = df[df['Year'] == year].groupby('Month')[value].mean()\n",
    "    \n",
    "        plt.plot(\n",
    "            months, \n",
    "            monthly_data, \n",
    "            color=colors[i], \n",
    "            alpha=0.7, \n",
    "            label=f\"{year}\"\n",
    "        )\n",
    "    \n",
    "    plt.title(f\"{value} Values for the past 10 years\")\n",
    "    plt.xlabel(\"Month\")\n",
    "    plt.ylabel(f\"{value} (ug/m3)\")\n",
    "    \n",
    "    plt.xticks(months, ['Jan', 'Feb', 'Mar', 'Apr', 'May', 'Jun', 'Jul', 'Aug', 'Sep', 'Oct', 'Nov', 'Dec'])\n",
    "    \n",
    "    plt.grid(True)\n",
    "    plt.tight_layout()\n",
    "    plt.legend(title=\"Year\", bbox_to_anchor=(1.05, 1), loc='upper left')\n",
    "    plt.show()\n",
    "    \n",
    "plot_aqi(df_pollutants, \"Station1_PM10\")\n",
    "plot_aqi(df_pollutants, \"Station2_PM10\")\n"
   ],
   "id": "b1b7de7a320a5561",
   "outputs": [],
   "execution_count": null
  },
  {
   "metadata": {},
   "cell_type": "code",
   "source": [
    "fig, ax = plt.subplots(figsize=(20, 5))\n",
    "\n",
    "candidates = df_pollutants[['Station1_PM10','Station1_NO2', 'Station1_SO2']]\n",
    "candidates /= candidates.max(axis=0)\n",
    "candidates.plot(ax=ax)"
   ],
   "id": "a0f5b1f27bb927f3",
   "outputs": [],
   "execution_count": null
  },
  {
   "metadata": {},
   "cell_type": "code",
   "source": [
    "fig1, ax1 = plt.subplots(figsize=(20, 5))\n",
    "candidates1 = df_pollutants[['Station2_PM10', 'Station2_NO2', 'Station2_SO2']]\n",
    "candidates1 /= candidates1.max(axis=0)\n",
    "candidates1.plot(ax=ax1)"
   ],
   "id": "3da3782c7fcb4c83",
   "outputs": [],
   "execution_count": null
  },
  {
   "metadata": {},
   "cell_type": "code",
   "source": [
    "def plot_with_threshold(df, pollutant, threshold):\n",
    "    fig, ax = plt.subplots(figsize=(20, 5))\n",
    "    candidates = df[pollutant]\n",
    "    ax.axhline(y=threshold, linestyle='--', linewidth=1, color='red')\n",
    "    candidates.plot()"
   ],
   "id": "ad35208eb8b59e4",
   "outputs": [],
   "execution_count": null
  },
  {
   "metadata": {},
   "cell_type": "code",
   "source": [
    "plot_with_threshold(df_pollutants, \"Station1_PM10\", 50)\n",
    "\n",
    "plot_with_threshold(df_pollutants, \"Station1_PM10\", 50)"
   ],
   "id": "a51cbf1b4f4985dd",
   "outputs": [],
   "execution_count": null
  },
  {
   "metadata": {},
   "cell_type": "code",
   "source": "df_pollutants.to_csv(\"/Users/zafiraibraeva/Code/uni coding/thesis/thesis_code/thesis/data/cleaned_AQI_hourly.csv\")",
   "id": "9609a59caede1455",
   "outputs": [],
   "execution_count": null
  },
  {
   "metadata": {},
   "cell_type": "code",
   "source": [
    "wind_df = pd.read_csv(\"/data/final_data/wind.csv\")\n",
    "wind_df.shape"
   ],
   "id": "c785ff9c3cad72f6",
   "outputs": [],
   "execution_count": null
  },
  {
   "metadata": {},
   "cell_type": "code",
   "source": [
    "cols_to_keep = [\n",
    "       'datetime', 'temp', 'humidity', 'precip', \n",
    "       'precipcover', 'cloudcover',\n",
    "       'windspeed', 'winddir', 'visibility',\n",
    "       ]"
   ],
   "id": "4812e6e3db7ec084",
   "outputs": [],
   "execution_count": null
  },
  {
   "metadata": {},
   "cell_type": "code",
   "source": "wind_df = wind_df[cols_to_keep]",
   "id": "deb72703703c4b38",
   "outputs": [],
   "execution_count": null
  },
  {
   "metadata": {},
   "cell_type": "code",
   "source": "wind_df.set_index('datetime', inplace=True)",
   "id": "205555175d6404c6",
   "outputs": [],
   "execution_count": null
  },
  {
   "metadata": {},
   "cell_type": "code",
   "source": "wind_df",
   "id": "1e2941d2f8316116",
   "outputs": [],
   "execution_count": null
  },
  {
   "metadata": {},
   "cell_type": "code",
   "source": "wind_df.isnull().sum()",
   "id": "97dbe3f375d74080",
   "outputs": [],
   "execution_count": null
  },
  {
   "metadata": {},
   "cell_type": "code",
   "source": [
    "df_pollutants.index = pd.to_datetime(df_pollutants.index).normalize() \n",
    "wind_df.index = pd.to_datetime(wind_df.index).normalize()"
   ],
   "id": "8807060b15962ab3",
   "outputs": [],
   "execution_count": null
  },
  {
   "metadata": {},
   "cell_type": "code",
   "source": "# final_df = pd.merge(df, wind_df, left_index=True, right_index=True)",
   "id": "54b34ac9cd6063ae",
   "outputs": [],
   "execution_count": null
  },
  {
   "metadata": {},
   "cell_type": "code",
   "source": "# final_df.to_csv(\"final_data.csv\")",
   "id": "825d026cfcb77701",
   "outputs": [],
   "execution_count": null
  },
  {
   "metadata": {},
   "cell_type": "code",
   "source": [
    "df_pollutants['is_heating_season'] = np.where(df_pollutants['Season'].isin([\"Winter\", \"Fall\"]), 1, 0)\n",
    "df_pollutants['is_work_day'] = np.where(df_pollutants['WeekDay'].isin([\"Monay\", \"Tuesday\", \"Wednesday\", \"Thursday\", \"Friday\"]), 1, 0)"
   ],
   "id": "c0d8b4f95e6688de",
   "outputs": [],
   "execution_count": null
  },
  {
   "metadata": {},
   "cell_type": "code",
   "source": [
    "df_pollutants.drop([\"Year\", \"Season\", \"WeekDay\", \"Day\", \"Month\"], axis=1, inplace=True)\n",
    "df_pollutants"
   ],
   "id": "11bafcb0d56fb73f",
   "outputs": [],
   "execution_count": null
  },
  {
   "metadata": {},
   "cell_type": "code",
   "source": [
    "wind_df[\"winddir_rad\"] = np.deg2rad(wind_df[\"winddir\"])\n",
    "\n",
    "wind_df[\"winddir_sin\"] = np.sin(wind_df[\"winddir_rad\"])\n",
    "wind_df[\"winddir_cos\"] = np.cos(wind_df[\"winddir_rad\"])\n",
    "\n",
    "wind_df.drop(columns=[\"winddir\", \"winddir_rad\"], inplace=True)\n",
    "wind_df"
   ],
   "id": "ae29e4528bd1cfeb",
   "outputs": [],
   "execution_count": null
  },
  {
   "metadata": {},
   "cell_type": "code",
   "source": [
    "wind_df.isna().sum()\n",
    "# df.fillna(method=\"ffill\", inplace=True)  # Forward fill\n"
   ],
   "id": "20c04ade1e456623",
   "outputs": [],
   "execution_count": null
  },
  {
   "metadata": {},
   "cell_type": "code",
   "source": [
    "# df.reset_index(inplace=True)\n",
    "df_pollutants.reset_index(inplace=True)\n",
    "df_pollutants['timestamp'] = df_pollutants['Date'].dt.date\n",
    "df_pollutants"
   ],
   "id": "b6ac656042911e69",
   "outputs": [],
   "execution_count": null
  },
  {
   "metadata": {},
   "cell_type": "code",
   "source": [
    "df_wind_resampled = wind_df.resample('H').ffill()  \n",
    "df_wind_resampled['Date'] = df_wind_resampled.index"
   ],
   "id": "878806ee855a7a1a",
   "outputs": [],
   "execution_count": null
  },
  {
   "metadata": {},
   "cell_type": "code",
   "source": [
    "wind_df.reset_index()\n",
    "wind_df['timestamp'] = wind_df.index.date\n",
    "#wind_df['timestamp'] = wind_df['datetime']"
   ],
   "id": "f9b43f29da54aeb3",
   "outputs": [],
   "execution_count": null
  },
  {
   "metadata": {},
   "cell_type": "code",
   "source": [
    "wind_df['timestamp'] = pd.to_datetime(wind_df['timestamp'])\n",
    "\n",
    "df_merged = pd.merge(df_pollutants, wind_df, left_on='timestamp', right_on=wind_df['timestamp'].dt.date, how='left')\n",
    "\n",
    "# Drop the extra 'timestamp' column from wind data, if needed\n",
    "df_merged.drop(columns='timestamp_y', inplace=True)\n",
    "\n"
   ],
   "id": "371894640d2a0bf4",
   "outputs": [],
   "execution_count": null
  },
  {
   "metadata": {},
   "cell_type": "code",
   "source": [
    "# final_df.to_csv(\"/Users/zafiraibraeva/Code/uni coding/thesis/thesis_code/thesis/data/final_data/data_for_model.csv\")\n",
    "print(df_merged)"
   ],
   "id": "1fc02a568355de18",
   "outputs": [],
   "execution_count": null
  },
  {
   "metadata": {},
   "cell_type": "code",
   "source": "# final_df.columns",
   "id": "799f78f282e912a1",
   "outputs": [],
   "execution_count": null
  },
  {
   "metadata": {},
   "cell_type": "code",
   "source": [
    "meteorological_data = [\n",
    "    \"winddir_sin\",\n",
    "    \"winddir_cos\",\n",
    "    \"windspeed\",\n",
    "    \"visibility\",\n",
    "    \"humidity\",\n",
    "    \"precip\",\n",
    "    \"precipcover\",\n",
    "    \"cloudcover\",\n",
    "    \"temp\",\n",
    "    \n",
    "]\n",
    "pm10 = \"Station1_PM10\"\n",
    "pm10_2 = \"Station2_PM10\"\n",
    "\n",
    "corr_data = df_merged[meteorological_data + [pm10, pm10_2]]  \n",
    "corr_matrix = corr_data.corr()\n",
    "\n",
    "plt.figure(figsize=(10, 6))\n",
    "sns.heatmap(corr_matrix, annot=True, cmap=\"coolwarm\", fmt=\".2f\", linewidths=0.5)\n",
    "plt.title(\"Correlation Matrix: PM10 & Meteorological Variables\")\n",
    "plt.show()"
   ],
   "id": "24849f7b316b842b",
   "outputs": [],
   "execution_count": null
  },
  {
   "metadata": {},
   "cell_type": "code",
   "source": "df_merged.to_csv(\"/Users/zafiraibraeva/Code/uni coding/thesis/thesis_code/thesis/data/final_data/hourly_final.csv\")",
   "id": "377dce5632b86a8f",
   "outputs": [],
   "execution_count": null
  }
 ],
 "metadata": {
  "kernelspec": {
   "display_name": "Python 3",
   "language": "python",
   "name": "python3"
  },
  "language_info": {
   "codemirror_mode": {
    "name": "ipython",
    "version": 2
   },
   "file_extension": ".py",
   "mimetype": "text/x-python",
   "name": "python",
   "nbconvert_exporter": "python",
   "pygments_lexer": "ipython2",
   "version": "2.7.6"
  }
 },
 "nbformat": 4,
 "nbformat_minor": 5
}
