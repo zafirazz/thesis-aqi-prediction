{
 "cells": [
  {
   "cell_type": "code",
   "id": "e2a56735601cd709",
   "metadata": {
    "id": "e2a56735601cd709"
   },
   "source": [
    "import pandas as pd\n",
    "from tensorflow.keras.models import Sequential\n",
    "from tensorflow.keras.layers import LSTM, Dense, Dropout\n",
    "from sklearn.preprocessing import StandardScaler\n",
    "import numpy as np\n",
    "import matplotlib.pyplot as plt\n",
    "from keras.optimizers import Adam, AdamW\n",
    "from keras.layers import Bidirectional, BatchNormalization\n",
    "from keras.callbacks import EarlyStopping, ReduceLROnPlateau\n",
    "from sklearn.metrics import r2_score\n",
    "from tensorflow.python.keras.losses import mean_squared_error, mean_absolute_error\n",
    "from tensorflow.keras.layers import Conv1D, MaxPooling1D"
   ],
   "outputs": [],
   "execution_count": null
  },
  {
   "cell_type": "code",
   "id": "1b9a765aa480e816",
   "metadata": {
    "colab": {
     "base_uri": "https://localhost:8080/"
    },
    "id": "1b9a765aa480e816",
    "outputId": "8e02b843-5e15-4ebb-b774-f13109c0133a"
   },
   "source": [
    "df = pd.read_csv(\"thesis_code/thesis/webapp/dataset/final_data.csv\")\n",
    "df.shape"
   ],
   "outputs": [],
   "execution_count": null
  },
  {
   "cell_type": "code",
   "id": "5d6aae82ed2c6880",
   "metadata": {
    "colab": {
     "base_uri": "https://localhost:8080/",
     "height": 213
    },
    "id": "5d6aae82ed2c6880",
    "outputId": "dc94b746-f142-4a74-da63-90bd45834ba8"
   },
   "source": [
    "df.head(2)"
   ],
   "outputs": [],
   "execution_count": null
  },
  {
   "cell_type": "code",
   "id": "6ef367e09ca6dc2d",
   "metadata": {
    "id": "6ef367e09ca6dc2d"
   },
   "source": [
    "df.drop(\"Unnamed: 0\", axis=1, inplace=True)\n",
    "\n",
    "df[\"Date\"] = pd.to_datetime(df[\"Date\"])"
   ],
   "outputs": [],
   "execution_count": null
  },
  {
   "cell_type": "code",
   "id": "xy6VDa7oUj92",
   "metadata": {
    "colab": {
     "base_uri": "https://localhost:8080/",
     "height": 196
    },
    "id": "xy6VDa7oUj92",
    "outputId": "5bba41fd-c0ac-45a3-e3fa-313fa8ad4bf0"
   },
   "source": [
    "df.head(2)"
   ],
   "outputs": [],
   "execution_count": null
  },
  {
   "cell_type": "code",
   "id": "e2f89ef1304ea176",
   "metadata": {
    "colab": {
     "base_uri": "https://localhost:8080/",
     "height": 899
    },
    "id": "e2f89ef1304ea176",
    "outputId": "ee448852-e59b-4e12-b8ae-900ade94f9c9"
   },
   "source": [
    "df.isna().sum()"
   ],
   "outputs": [],
   "execution_count": null
  },
  {
   "cell_type": "code",
   "id": "af8809a0db8a6dd8",
   "metadata": {
    "id": "af8809a0db8a6dd8"
   },
   "source": [
    "features = [\n",
    "    # \"Station1_CO\", \"Station1_NO2\", \"Station1_NOx\",\n",
    "    # \"Station2_CO\", \"Station2_NO2\", \"Station2_NOx\", \"Station2_O3\",\n",
    "    # \"Station1_SO2\", \"Station2_SO2\", \"Station1_PM10\",\n",
    "    \"temp\", \"humidity\", \"precip\",\n",
    "    \"precipcover\", \"cloudcover\", \"windspeed\", \"visibility\",\n",
    "    \"winddir_sin\", \"winddir_cos\", \"is_heating_season\", \"is_work_day\",\n",
    "    \"year\", \"month\", \"day\"\n",
    "]\n",
    "target = \"Station2_PM10\""
   ],
   "outputs": [],
   "execution_count": null
  },
  {
   "cell_type": "code",
   "id": "Zg0aNTn9H8W-",
   "metadata": {
    "id": "Zg0aNTn9H8W-"
   },
   "source": [
    "scaler_features = StandardScaler()\n",
    "scaler_target = StandardScaler()\n",
    "df_features_scaled = scaler_features.fit_transform(df[features])\n",
    "df_target_scaled = scaler_target.fit_transform(df[[target]])\n",
    "df_scaled = np.hstack((df_features_scaled, df_target_scaled))"
   ],
   "outputs": [],
   "execution_count": null
  },
  {
   "cell_type": "code",
   "id": "9b7718260bb518f3",
   "metadata": {
    "id": "9b7718260bb518f3"
   },
   "source": [
    "def create_sequences(data, target_index, seq_length):\n",
    "    X, y = [], []\n",
    "    for i in range(len(data) - seq_length):\n",
    "        X.append(data[i:i+seq_length])\n",
    "        y.append(data[i+seq_length, target_index])\n",
    "    return np.array(X), np.array(y)"
   ],
   "outputs": [],
   "execution_count": null
  },
  {
   "cell_type": "code",
   "id": "e9e72a228ab320b2",
   "metadata": {
    "id": "e9e72a228ab320b2"
   },
   "source": [
    "X, y = create_sequences(df_scaled, target_index=len(features), seq_length=31)\n",
    "\n",
    "split_idx = int(0.8 * len(X))\n",
    "X_train, X_test = X[:split_idx], X[split_idx:]\n",
    "y_train, y_test = y[:split_idx], y[split_idx:]"
   ],
   "outputs": [],
   "execution_count": null
  },
  {
   "cell_type": "code",
   "source": [
    "# # prompt: generate train data to be from 20212 to 2023 and test 2024\n",
    "\n",
    "# # Assuming 'df' is your DataFrame with a 'Date' column\n",
    "# train_data = df[(df[\"Date\"].dt.year >= 2021) & (df[\"Date\"].dt.year <= 2023)]\n",
    "# test_data = df[df[\"Date\"].dt.year == 2024]\n",
    "\n",
    "# # Now split the scaled data\n",
    "# split_idx_train = len(train_data) - 31  # Account for sequence length\n",
    "\n",
    "# X_train, y_train = create_sequences(df_scaled[:split_idx_train], target_index=len(features), seq_length=31)\n",
    "# X_test, y_test = create_sequences(df_scaled[split_idx_train:], target_index=len(features), seq_length=31)\n"
   ],
   "metadata": {
    "id": "G-8jm2JLD-RO"
   },
   "id": "G-8jm2JLD-RO",
   "outputs": [],
   "execution_count": null
  },
  {
   "cell_type": "code",
   "id": "gIl5Eyc8Ho1a",
   "metadata": {
    "id": "gIl5Eyc8Ho1a"
   },
   "source": [
    "# train_data = df_scaled[(df_scaled['year'] < 2024) & (df['year'] > 2022)]\n",
    "# test_data = df[df['year'] == 2024]\n",
    "\n",
    "# X_train = train_data[features]\n",
    "# y_train = train_data[target]\n",
    "\n",
    "# X_test = test_data[features]\n",
    "# y_test = test_data[target]\n"
   ],
   "outputs": [],
   "execution_count": null
  },
  {
   "cell_type": "markdown",
   "source": [],
   "metadata": {
    "id": "2GrDsd1-CvIq"
   },
   "id": "2GrDsd1-CvIq"
  },
  {
   "cell_type": "code",
   "id": "8c898be1c5e43219",
   "metadata": {
    "id": "8c898be1c5e43219",
    "colab": {
     "base_uri": "https://localhost:8080/"
    },
    "outputId": "174d2f04-8507-40a3-ef31-d6e69892fbee"
   },
   "source": [
    "model = Sequential([\n",
    "    LSTM(512, return_sequences=True, recurrent_activation='sigmoid', input_shape=(72, X.shape[2])),\n",
    "    Dropout(0.3),\n",
    "    BatchNormalization(),\n",
    "\n",
    "    LSTM(512, return_sequences=True, recurrent_activation='sigmoid'),\n",
    "    Dropout(0.3),\n",
    "    BatchNormalization(),\n",
    "\n",
    "    LSTM(256, return_sequences=True),\n",
    "    Dropout(0.2),\n",
    "    BatchNormalization(),\n",
    "\n",
    "    LSTM(128, return_sequences=False),\n",
    "    Dropout(0.2),\n",
    "    BatchNormalization(),\n",
    "\n",
    "    Dense(64, activation='relu'),\n",
    "    Dense(32, activation='relu'),\n",
    "    Dense(1, activation='linear')\n",
    "])\n",
    "# model = load_model(\"pm10_lstm.h5\")"
   ],
   "outputs": [],
   "execution_count": null
  },
  {
   "cell_type": "code",
   "id": "db0279eaa46b834d",
   "metadata": {
    "id": "db0279eaa46b834d"
   },
   "source": [
    "optimizer = AdamW(learning_rate=0.001)\n",
    "model.compile(optimizer=optimizer, loss='mae', metrics=['mae'])"
   ],
   "outputs": [],
   "execution_count": null
  },
  {
   "cell_type": "code",
   "id": "dd798eb83e2f0e3d",
   "metadata": {
    "id": "dd798eb83e2f0e3d"
   },
   "source": [
    "early_stopping = EarlyStopping(monitor='val_loss', patience=15, restore_best_weights=True)"
   ],
   "outputs": [],
   "execution_count": null
  },
  {
   "cell_type": "code",
   "id": "92e7186e9b25477b",
   "metadata": {
    "colab": {
     "base_uri": "https://localhost:8080/"
    },
    "id": "92e7186e9b25477b",
    "outputId": "19d4907d-7caa-487c-c042-bfb920340b88"
   },
   "source": [
    "history = model.fit(\n",
    "    X_train,\n",
    "    y_train,\n",
    "    epochs=100,\n",
    "    batch_size=96,\n",
    "    callbacks=[early_stopping]\n",
    "  )"
   ],
   "outputs": [],
   "execution_count": null
  },
  {
   "cell_type": "code",
   "id": "8aac4e234d5663d0",
   "metadata": {
    "id": "8aac4e234d5663d0",
    "colab": {
     "base_uri": "https://localhost:8080/"
    },
    "outputId": "cd2040c4-68ff-4c7c-b41d-64c636e79aaa"
   },
   "source": [
    "y_pred = model.predict(X_test)"
   ],
   "outputs": [],
   "execution_count": null
  },
  {
   "cell_type": "code",
   "id": "5f8a2dd011e3e483",
   "metadata": {
    "id": "5f8a2dd011e3e483"
   },
   "source": [
    "y_test_actual = scaler_target.inverse_transform(y_test.reshape(-1, 1)).flatten()\n",
    "y_pred_actual = scaler_target.inverse_transform(y_pred).flatten()"
   ],
   "outputs": [],
   "execution_count": null
  },
  {
   "cell_type": "code",
   "id": "324ba3be3a652c30",
   "metadata": {
    "id": "324ba3be3a652c30",
    "colab": {
     "base_uri": "https://localhost:8080/"
    },
    "outputId": "c97fb7dc-85a6-4aa9-b5c0-c013f0c392fe"
   },
   "source": [
    "mae = mean_absolute_error(y_test_actual, y_pred_actual)\n",
    "print(f\"MAE: {mae}\")\n",
    "mse = mean_squared_error(y_test_actual, y_pred_actual)\n",
    "print(f\"MSE: {mse}\")\n",
    "r2 = r2_score(y_test_actual, y_pred_actual)\n",
    "print(f\"R2: {r2}\")"
   ],
   "outputs": [],
   "execution_count": null
  },
  {
   "cell_type": "code",
   "id": "4465c19082f2ba32",
   "metadata": {
    "id": "4465c19082f2ba32",
    "colab": {
     "base_uri": "https://localhost:8080/",
     "height": 539
    },
    "outputId": "57885003-e09b-4e12-d3f2-ba6388800a70"
   },
   "source": [
    "plt.figure(figsize=(12, 6))\n",
    "plt.plot(y_test_actual, label='Actual PM10', alpha=0.8)\n",
    "plt.plot(y_pred_actual, label='Predicted PM10', marker='.', alpha=0.7)\n",
    "plt.legend()\n",
    "plt.title('Actual vs Predicted PM10 Values')\n",
    "plt.ylabel('PM10')\n",
    "plt.xlabel('Test Sample index')\n",
    "plt.show()"
   ],
   "outputs": [],
   "execution_count": null
  },
  {
   "cell_type": "code",
   "source": [
    "losses = [mean_absolute_error(y_test_actual[:i+1], y_pred_actual[:i+1]) for i in range(len(y_test_actual))]\n",
    "\n",
    "\n",
    "plt.figure(figsize=(10, 6))\n",
    "plt.plot(losses)\n",
    "plt.xlabel(\"Epoch\")\n",
    "plt.ylabel(\"Mean Absolute Error\")\n",
    "plt.title(\"Loss Curve\")\n",
    "plt.grid(True)\n",
    "plt.show()"
   ],
   "metadata": {
    "id": "qGnkOfjFARUh",
    "colab": {
     "base_uri": "https://localhost:8080/",
     "height": 564
    },
    "outputId": "8e23f7e5-7ed2-4ccc-f115-d29c2d7b7045"
   },
   "id": "qGnkOfjFARUh",
   "outputs": [],
   "execution_count": null
  }
 ],
 "metadata": {
  "accelerator": "GPU",
  "colab": {
   "cell_execution_strategy": "setup",
   "gpuType": "T4",
   "provenance": [],
   "machine_shape": "hm"
  },
  "kernelspec": {
   "display_name": "Python 3",
   "name": "python3"
  },
  "language_info": {
   "codemirror_mode": {
    "name": "ipython",
    "version": 2
   },
   "file_extension": ".py",
   "mimetype": "text/x-python",
   "name": "python",
   "nbconvert_exporter": "python",
   "pygments_lexer": "ipython2",
   "version": "2.7.6"
  }
 },
 "nbformat": 4,
 "nbformat_minor": 5
}
